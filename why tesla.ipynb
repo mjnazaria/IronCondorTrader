{
 "cells": [
  {
   "cell_type": "markdown",
   "metadata": {},
   "source": [
    "In this notbook, 100 stocks belong to S&P 500 index will be compared based on their option returns, volitility and trading volume and reasons for choosing TESLA among them will be explained."
   ]
  },
  {
   "cell_type": "code",
   "execution_count": 1,
   "metadata": {},
   "outputs": [],
   "source": [
    "import yfinance as yf\n",
    "import pandas as pd    \n",
    "import numpy as np     \n",
    "import matplotlib.pyplot as plt\n",
    "import pickle\n",
    "from datetime import datetime\n",
    "import warnings\n",
    "import plotly.graph_objects as go\n",
    "import requests"
   ]
  },
  {
   "cell_type": "code",
   "execution_count": 2,
   "metadata": {},
   "outputs": [],
   "source": [
    "start_date = datetime.fromisoformat(\"2021-04-15\")\n",
    "end_date = datetime.fromisoformat(\"2022-04-16\")\n",
    "market_cal = pd.read_pickle('market_calendar')"
   ]
  },
  {
   "cell_type": "code",
   "execution_count": null,
   "metadata": {},
   "outputs": [],
   "source": [
    "# import s&p500 top 100 volatile tickers\n",
    "with open(\"ticker_list\", \"rb\") as fp:\n",
    "    ticker_list = pickle.load(fp)\n",
    "\n",
    "# filter out thickers with monthly option expiry\n",
    "tickers_weekly_option = []\n",
    "for ticker in ticker_list:\n",
    "    tick = yf.Ticker(ticker)\n",
    "    df = tick.history(period='1d', progress=False)\n",
    "    exp_list = tick.options\n",
    "    \n",
    "    if df['Close'][0]>100 and len(list(filter(lambda x: '2022-05' in x, exp_list)))==4:\n",
    "        tickers_weekly_option.append(ticker)\n",
    "tickers_weekly_option = np.array(tickers_weekly_option)"
   ]
  },
  {
   "cell_type": "code",
   "execution_count": 25,
   "metadata": {},
   "outputs": [],
   "source": [
    "# find the beginning and end of each week during the 1yr period\n",
    "def allmondays(start_date, end_date):\n",
    "    mondays = pd.date_range(start=str(start_date.year), end=str(end_date.year+1), freq='W-MON') \n",
    "    mondays = mondays[np.logical_and(mondays>=start_date, mondays<=end_date)]\n",
    "    return mondays\n",
    "mondays = allmondays(start_date, end_date)\n",
    "st_dates = []\n",
    "for mon in mondays:\n",
    "    if mon in market_cal:\n",
    "        st_dates.append(mon)\n",
    "    else:\n",
    "        st_dates.append(market_cal[market_cal>mon][0])  \n",
    "st_dates = np.array(st_dates)\n",
    "\n",
    "def allfridays(start_date, end_date):    \n",
    "    fridays = pd.date_range(start=str(start_date.year), end=str(end_date.year+1), freq='W-FRI')    \n",
    "    fridays = fridays[np.logical_and(fridays>=start_date, fridays<=end_date)]\n",
    "    return fridays\n",
    "fridays = allfridays(start_date, end_date)\n",
    "exp_dates = []           \n",
    "for frid in fridays:\n",
    "    if frid in market_cal:\n",
    "        exp_dates.append(frid) \n",
    "    else:\n",
    "        exp_dates.append(market_cal[market_cal<frid][-1])   \n",
    "exp_dates = np.array(exp_dates)\n",
    "\n",
    "if st_dates[-1] > exp_dates[-1]:\n",
    "    st_dates = np.delete(st_dates, -1)\n",
    "if st_dates[0] > exp_dates[0]:\n",
    "    exp_dates = np.delete(exp_dates, 0)"
   ]
  },
  {
   "cell_type": "markdown",
   "metadata": {},
   "source": [
    "Polygon api is used below to get historical options data. They are one of the few reliable platforms that provide historical end-of-day data for free."
   ]
  },
  {
   "cell_type": "code",
   "execution_count": 654,
   "metadata": {},
   "outputs": [],
   "source": [
    "def options_historical(ticker, strike, type_, exp_date, from_, to):\n",
    "    key = myKey \n",
    "    ticker = ticker+exp_date+str.capitalize(type_)+f'{strike:05}'+'000'    \n",
    "    url = 'https://api.polygon.io/v2/aggs/ticker/O:'+ticker+'/range/1/day/'+from_+'/'+to+'?adjusted=true&sort=asc&limit=200&apiKey='+key\n",
    "    resp = requests.get(url)  \n",
    "    return resp.json()\n",
    "\n",
    "def round_base(x, base):\n",
    "    return int(base * round(x/base))\n",
    "    \n",
    "    \n",
    "def option_return(ticker, st_date, exp_date):\n",
    "    #put_return, call_return = 0, 0\n",
    "    volume = np.nan\n",
    "    df = yf.download(ticker, start=st_date, end=st_date+timedelta(days=1), progress=False)     \n",
    "    price = df['Close'][0]   \n",
    "\n",
    "    if price > 500:\n",
    "        calls = round_base(1.2*price, 10)\n",
    "        calll = round_base(1.25*price, 10)\n",
    "        puts = round_base(.8*price, 10)\n",
    "        putl = round_base(.75*price, 10)\n",
    "    else:\n",
    "        calls = round_base(1.2*price, 5)\n",
    "        calll = round_base(1.25*price, 5)\n",
    "        puts = round_base(.8*price, 5)\n",
    "        putl = round_base(.75*price, 5)\n",
    "        \n",
    "                \n",
    "    resp = options_historical(ticker, calls, 'c', exp_date.strftime(\"%y%m%d\"), st_date.strftime(\"%Y-%m-%d\"), st_date.strftime(\"%Y-%m-%d\"))\n",
    "    if 'results' in resp and resp['results'][0]['v']>10:\n",
    "        volume = resp['results'][0]['v']\n",
    "        call_return = resp['results'][0]['c']\n",
    "    else:\n",
    "        call_return = np.nan        \n",
    "    resp = options_historical(ticker, calll, 'c', exp_date.strftime(\"%y%m%d\"), st_date.strftime(\"%Y-%m-%d\"), st_date.strftime(\"%Y-%m-%d\"))\n",
    "    if 'results' in resp and resp['results'][0]['v']>10:\n",
    "        call_return = call_return - resp['results'][0]['c']\n",
    "    else:\n",
    "        call_return = np.nan\n",
    "            \n",
    "    resp = options_historical(ticker, puts, 'p', exp_date.strftime(\"%y%m%d\"), st_date.strftime(\"%Y-%m-%d\"), st_date.strftime(\"%Y-%m-%d\"))\n",
    "    if 'results' in resp and resp['results'][0]['v']>10:\n",
    "        put_return = resp['results'][0]['c']\n",
    "        volume += resp['results'][0]['v']\n",
    "    else:\n",
    "        put_return = np.nan      \n",
    "    resp = options_historical(ticker, putl, 'p', exp_date.strftime(\"%y%m%d\"), st_date.strftime(\"%Y-%m-%d\"), st_date.strftime(\"%Y-%m-%d\"))\n",
    "    if 'results' in resp and resp['results'][0]['v']>10:\n",
    "        put_return = put_return - resp['results'][0]['c']\n",
    "    else:\n",
    "        put_return = np.nan \n",
    "        \n",
    "    mean_return = 100*np.nanmean([call_return/(calll-calls+1e-9), put_return/(puts-putl+1e-9)])\n",
    "    return mean_return, volume/2"
   ]
  },
  {
   "cell_type": "code",
   "execution_count": 663,
   "metadata": {},
   "outputs": [],
   "source": [
    "warnings.filterwarnings('ignore')\n",
    "returns = np.zeros((len(tickers_weekly_option), len(st_dates))) \n",
    "volume = np.zeros((len(tickers_weekly_option), len(st_dates)))   \n",
    "\n",
    "for i, tick in enumerate(tickers_weekly_option):\n",
    "    for j in range(len(st_dates)):\n",
    "        returns[i, j], volume[i, j] = option_return(tick, st_dates[j], exp_dates[j])"
   ]
  },
  {
   "cell_type": "code",
   "execution_count": 9,
   "metadata": {},
   "outputs": [
    {
     "data": {
      "image/png": "[encoded data removed]",
      "text/plain": [
       "<Figure size 360x360 with 1 Axes>"
      ]
     },
     "metadata": {
      "needs_background": "light"
     },
     "output_type": "display_data"
    }
   ],
   "source": [
    "returns_fill = np.where(np.isnan(returns), 0, returns)\n",
    "mean_return = np.nanmean(returns_fill, axis=1)\n",
    "candidates_liquid = np.count_nonzero(np.isnan(returns), axis=1)<len(st_dates)/2\n",
    "mean_return = mean_return[candidates_liquid]\n",
    "tickers_candidate = tickers_weekly_option[candidates_liquid]\n",
    "idx_sort = np.argsort(mean_return)\n",
    "\n",
    "plt.figure(figsize=(5,5))\n",
    "plt.barh(tickers_candidate[idx_sort], mean_return[idx_sort])\n",
    "plt.xlabel('Weekly options return (%)')"
   ]
  },
  {
   "cell_type": "markdown",
   "metadata": {},
   "source": [
    "In the chart above, return was calculated by dividing iron condor net premium by margin requirement."
   ]
  },
  {
   "cell_type": "code",
   "execution_count": 677,
   "metadata": {},
   "outputs": [],
   "source": [
    "# calculate ticker's daily return volitility over the last year\n",
    "volitility = np.array([])\n",
    "for tick in tickers_candidate:\n",
    "    df = yf.download(tick, start=start_date, end=end_date, progress=False)\n",
    "    volitility = np.append(volitility, 100*((df['Close']-df['Close'].shift(periods=1))/df['Close'].shift(periods=1)).std())"
   ]
  },
  {
   "cell_type": "code",
   "execution_count": 9,
   "metadata": {},
   "outputs": [
    {
     "data": {
      "image/svg+xml": [
       "<svg class=\"main-svg\" xmlns=\"http://www.w3.org/2000/svg\" xmlns:xlink=\"http://www.w3.org/1999/xlink\" width=\"1000\" height=\"600\" style=\"\" viewBox=\"0 0 1000 600\"><rect x=\"0\" y=\"0\" width=\"1000\" height=\"600\" style=\"fill: rgb(255, 255, 255); fill-opacity: 1;\"/><defs id=\"defs-7f2c4b\"><g class=\"clips\"><clipPath id=\"clip7f2c4bxyplot\" class=\"plotclip\"><rect width=\"840\" height=\"420\"/></clipPath><clipPath class=\"axesclip\" id=\"clip7f2c4bx\"><rect x=\"80\" y=\"0\" width=\"840\" height=\"600\"/></clipPath><clipPath class=\"axesclip\" id=\"clip7f2c4by\"><rect x=\"0\" y=\"100\" width=\"1000\" height=\"420\"/></clipPath><clipPath class=\"axesclip\" id=\"clip7f2c4bxy\"><rect x=\"80\" y=\"100\" width=\"840\" height=\"420\"/></clipPath></g><g class=\"gradients\"/><g class=\"patterns\"/></defs><g class=\"bglayer\"><rect class=\"bg\" x=\"80\" y=\"100\" width=\"840\" height=\"420\" style=\"fill: rgb(229, 236, 246); fill-opacity: 1; stroke-width: 0;\"/></g><g class=\"layer-below\"><g class=\"imagelayer\"/><g class=\"shapelayer\"/></g><g class=\"cartesianlayer\"><g class=\"subplot xy\"><g class=\"layer-subplot\"><g class=\"shapelayer\"/><g class=\"imagelayer\"/></g><g class=\"gridlayer\"><g class=\"x\"><path class=\"xgrid crisp\" transform=\"translate(196.07,0)\" d=\"M0,100v420\" style=\"stroke: rgb(255, 255, 255); stroke-opacity: 1; stroke-width: 1px;\"/><path class=\"xgrid crisp\" transform=\"translate(323.36,0)\" d=\"M0,100v420\" style=\"stroke: rgb(255, 255, 255); stroke-opacity: 1; stroke-width: 1px;\"/><path class=\"xgrid crisp\" transform=\"translate(450.66,0)\" d=\"M0,100v420\" style=\"stroke: rgb(255, 255, 255); stroke-opacity: 1; stroke-width: 1px;\"/><path class=\"xgrid crisp\" transform=\"translate(577.96,0)\" d=\"M0,100v420\" style=\"stroke: rgb(255, 255, 255); stroke-opacity: 1; stroke-width: 1px;\"/><path class=\"xgrid crisp\" transform=\"translate(705.26,0)\" d=\"M0,100v420\" style=\"stroke: rgb(255, 255, 255); stroke-opacity: 1; stroke-width: 1px;\"/><path class=\"xgrid crisp\" transform=\"translate(832.55,0)\" d=\"M0,100v420\" style=\"stroke: rgb(255, 255, 255); stroke-opacity: 1; stroke-width: 1px;\"/></g><g class=\"y\"><path class=\"ygrid crisp\" transform=\"translate(0,455.5)\" d=\"M80,0h840\" style=\"stroke: rgb(255, 255, 255); stroke-opacity: 1; stroke-width: 1px;\"/><path class=\"ygrid crisp\" transform=\"translate(0,396.87)\" d=\"M80,0h840\" style=\"stroke: rgb(255, 255, 255); stroke-opacity: 1; stroke-width: 1px;\"/><path class=\"ygrid crisp\" transform=\"translate(0,338.24)\" d=\"M80,0h840\" style=\"stroke: rgb(255, 255, 255); stroke-opacity: 1; stroke-width: 1px;\"/><path class=\"ygrid crisp\" transform=\"translate(0,279.61)\" d=\"M80,0h840\" style=\"stroke: rgb(255, 255, 255); stroke-opacity: 1; stroke-width: 1px;\"/><path class=\"ygrid crisp\" transform=\"translate(0,220.98000000000002)\" d=\"M80,0h840\" style=\"stroke: rgb(255, 255, 255); stroke-opacity: 1; stroke-width: 1px;\"/><path class=\"ygrid crisp\" transform=\"translate(0,162.34)\" d=\"M80,0h840\" style=\"stroke: rgb(255, 255, 255); stroke-opacity: 1; stroke-width: 1px;\"/><path class=\"ygrid crisp\" transform=\"translate(0,103.71)\" d=\"M80,0h840\" style=\"stroke: rgb(255, 255, 255); stroke-opacity: 1; stroke-width: 1px;\"/></g></g><g class=\"zerolinelayer\"><path class=\"yzl zl crisp\" transform=\"translate(0,514.14)\" d=\"M80,0h840\" style=\"stroke: rgb(255, 255, 255); stroke-opacity: 1; stroke-width: 2px;\"/></g><path class=\"xlines-below\"/><path class=\"ylines-below\"/><g class=\"overlines-below\"/><g class=\"xaxislayer-below\"/><g class=\"yaxislayer-below\"/><g class=\"overaxes-below\"/><g class=\"plot\" transform=\"translate(80,100)\" clip-path=\"url(#clip7f2c4bxyplot)\"><g class=\"scatterlayer mlayer\"><g class=\"trace scatter trace8c40ca\" style=\"stroke-miterlimit: 2; opacity: 1;\"><g class=\"fills\"/><g class=\"errorbars\"/><g class=\"lines\"/><g class=\"points\"><path class=\"point\" transform=\"translate(794.25,24.75)\" d=\"M3,0A3,3 0 1,1 0,-3A3,3 0 0,1 3,0Z\" style=\"opacity: 1; stroke-width: 0px; fill: rgb(99, 110, 250); fill-opacity: 1;\"/><path class=\"point\" transform=\"translate(530.55,74.37)\" d=\"M3,0A3,3 0 1,1 0,-3A3,3 0 0,1 3,0Z\" style=\"opacity: 1; stroke-width: 0px; fill: rgb(99, 110, 250); fill-opacity: 1;\"/><path class=\"point\" transform=\"translate(341.31,233.61)\" d=\"M3,0A3,3 0 1,1 0,-3A3,3 0 0,1 3,0Z\" style=\"opacity: 1; stroke-width: 0px; fill: rgb(99, 110, 250); fill-opacity: 1;\"/><path class=\"point\" transform=\"translate(476.57,174.53)\" d=\"M3,0A3,3 0 1,1 0,-3A3,3 0 0,1 3,0Z\" style=\"opacity: 1; stroke-width: 0px; fill: rgb(99, 110, 250); fill-opacity: 1;\"/><path class=\"point\" transform=\"translate(292.27,338.64)\" d=\"M3,0A3,3 0 1,1 0,-3A3,3 0 0,1 3,0Z\" style=\"opacity: 1; stroke-width: 0px; fill: rgb(99, 110, 250); fill-opacity: 1;\"/><path class=\"point\" transform=\"translate(200.24,355.22)\" d=\"M3,0A3,3 0 1,1 0,-3A3,3 0 0,1 3,0Z\" style=\"opacity: 1; stroke-width: 0px; fill: rgb(99, 110, 250); fill-opacity: 1;\"/><path class=\"point\" transform=\"translate(91.68,365.37)\" d=\"M3,0A3,3 0 1,1 0,-3A3,3 0 0,1 3,0Z\" style=\"opacity: 1; stroke-width: 0px; fill: rgb(99, 110, 250); fill-opacity: 1;\"/><path class=\"point\" transform=\"translate(146.39,395.25)\" d=\"M3,0A3,3 0 1,1 0,-3A3,3 0 0,1 3,0Z\" style=\"opacity: 1; stroke-width: 0px; fill: rgb(99, 110, 250); fill-opacity: 1;\"/><path class=\"point\" transform=\"translate(153.08,376.6)\" d=\"M3,0A3,3 0 1,1 0,-3A3,3 0 0,1 3,0Z\" style=\"opacity: 1; stroke-width: 0px; fill: rgb(99, 110, 250); fill-opacity: 1;\"/><path class=\"point\" transform=\"translate(131.42,378.96)\" d=\"M3,0A3,3 0 1,1 0,-3A3,3 0 0,1 3,0Z\" style=\"opacity: 1; stroke-width: 0px; fill: rgb(99, 110, 250); fill-opacity: 1;\"/><path class=\"point\" transform=\"translate(45.75,375.89)\" d=\"M3,0A3,3 0 1,1 0,-3A3,3 0 0,1 3,0Z\" style=\"opacity: 1; stroke-width: 0px; fill: rgb(99, 110, 250); fill-opacity: 1;\"/></g><g class=\"text\"><g class=\"textpoint\" transform=\"translate(0,-7.75)\"><text x=\"794.25\" y=\"24.75\" text-anchor=\"middle\" style=\"font-family: 'Open Sans', verdana, arial, sans-serif; font-size: 12px; fill: rgb(42, 63, 95); fill-opacity: 1; white-space: pre;\">MRNA</text></g><g class=\"textpoint\" transform=\"translate(0,-7.75)\"><text x=\"530.55\" y=\"74.37\" text-anchor=\"middle\" style=\"font-family: 'Open Sans', verdana, arial, sans-serif; font-size: 12px; fill: rgb(42, 63, 95); fill-opacity: 1; white-space: pre;\">ENPH</text></g><g class=\"textpoint\" transform=\"translate(0,-7.75)\"><text x=\"341.31\" y=\"233.61\" text-anchor=\"middle\" style=\"font-family: 'Open Sans', verdana, arial, sans-serif; font-size: 12px; fill: rgb(42, 63, 95); fill-opacity: 1; white-space: pre;\">TSLA</text></g><g class=\"textpoint\" transform=\"translate(0,-7.75)\"><text x=\"476.57\" y=\"174.53\" text-anchor=\"middle\" style=\"font-family: 'Open Sans', verdana, arial, sans-serif; font-size: 12px; fill: rgb(42, 63, 95); fill-opacity: 1; white-space: pre;\">ETSY</text></g><g class=\"textpoint\" transform=\"translate(0,-7.75)\"><text x=\"292.27\" y=\"338.64\" text-anchor=\"middle\" style=\"font-family: 'Open Sans', verdana, arial, sans-serif; font-size: 12px; fill: rgb(42, 63, 95); fill-opacity: 1; white-space: pre;\">NVDA</text></g><g class=\"textpoint\" transform=\"translate(0,-7.75)\"><text x=\"200.24\" y=\"355.22\" text-anchor=\"middle\" style=\"font-family: 'Open Sans', verdana, arial, sans-serif; font-size: 12px; fill: rgb(42, 63, 95); fill-opacity: 1; white-space: pre;\">PYPL</text></g><g class=\"textpoint\" transform=\"translate(0,-7.75)\"><text x=\"91.68\" y=\"365.37\" text-anchor=\"middle\" style=\"font-family: 'Open Sans', verdana, arial, sans-serif; font-size: 12px; fill: rgb(42, 63, 95); fill-opacity: 1; white-space: pre;\">QCOM</text></g><g class=\"textpoint\" transform=\"translate(0,-7.75)\"><text x=\"146.39\" y=\"395.25\" text-anchor=\"middle\" style=\"font-family: 'Open Sans', verdana, arial, sans-serif; font-size: 12px; fill: rgb(42, 63, 95); fill-opacity: 1; white-space: pre;\">AMAT</text></g><g class=\"textpoint\" transform=\"translate(0,-7.75)\"><text x=\"153.08\" y=\"376.6\" text-anchor=\"middle\" style=\"font-family: 'Open Sans', verdana, arial, sans-serif; font-size: 12px; fill: rgb(42, 63, 95); fill-opacity: 1; white-space: pre;\">FB</text></g><g class=\"textpoint\" transform=\"translate(0,-7.75)\"><text x=\"131.42\" y=\"378.96\" text-anchor=\"middle\" style=\"font-family: 'Open Sans', verdana, arial, sans-serif; font-size: 12px; fill: rgb(42, 63, 95); fill-opacity: 1; white-space: pre;\">NFLX</text></g><g class=\"textpoint\" transform=\"translate(0,-7.75)\"><text x=\"45.75\" y=\"375.89\" text-anchor=\"middle\" style=\"font-family: 'Open Sans', verdana, arial, sans-serif; font-size: 12px; fill: rgb(42, 63, 95); fill-opacity: 1; white-space: pre;\">BA</text></g></g></g></g></g><g class=\"overplot\"/><path class=\"xlines-above crisp\" d=\"M0,0\" style=\"fill: none;\"/><path class=\"ylines-above crisp\" d=\"M0,0\" style=\"fill: none;\"/><g class=\"overlines-above\"/><g class=\"xaxislayer-above\"><g class=\"xtick\"><text text-anchor=\"middle\" x=\"0\" y=\"533\" transform=\"translate(196.07,0)\" style=\"font-family: 'Open Sans', verdana, arial, sans-serif; font-size: 12px; fill: rgb(42, 63, 95); fill-opacity: 1; white-space: pre; opacity: 1;\">2.5</text></g><g class=\"xtick\"><text text-anchor=\"middle\" x=\"0\" y=\"533\" style=\"font-family: 'Open Sans', verdana, arial, sans-serif; font-size: 12px; fill: rgb(42, 63, 95); fill-opacity: 1; white-space: pre; opacity: 1;\" transform=\"translate(323.36,0)\">3</text></g><g class=\"xtick\"><text text-anchor=\"middle\" x=\"0\" y=\"533\" style=\"font-family: 'Open Sans', verdana, arial, sans-serif; font-size: 12px; fill: rgb(42, 63, 95); fill-opacity: 1; white-space: pre; opacity: 1;\" transform=\"translate(450.66,0)\">3.5</text></g><g class=\"xtick\"><text text-anchor=\"middle\" x=\"0\" y=\"533\" style=\"font-family: 'Open Sans', verdana, arial, sans-serif; font-size: 12px; fill: rgb(42, 63, 95); fill-opacity: 1; white-space: pre; opacity: 1;\" transform=\"translate(577.96,0)\">4</text></g><g class=\"xtick\"><text text-anchor=\"middle\" x=\"0\" y=\"533\" style=\"font-family: 'Open Sans', verdana, arial, sans-serif; font-size: 12px; fill: rgb(42, 63, 95); fill-opacity: 1; white-space: pre; opacity: 1;\" transform=\"translate(705.26,0)\">4.5</text></g><g class=\"xtick\"><text text-anchor=\"middle\" x=\"0\" y=\"533\" style=\"font-family: 'Open Sans', verdana, arial, sans-serif; font-size: 12px; fill: rgb(42, 63, 95); fill-opacity: 1; white-space: pre; opacity: 1;\" transform=\"translate(832.55,0)\">5</text></g></g><g class=\"yaxislayer-above\"><g class=\"ytick\"><text text-anchor=\"end\" x=\"79\" y=\"4.199999999999999\" transform=\"translate(0,514.14)\" style=\"font-family: 'Open Sans', verdana, arial, sans-serif; font-size: 12px; fill: rgb(42, 63, 95); fill-opacity: 1; white-space: pre; opacity: 1;\">0</text></g><g class=\"ytick\"><text text-anchor=\"end\" x=\"79\" y=\"4.199999999999999\" style=\"font-family: 'Open Sans', verdana, arial, sans-serif; font-size: 12px; fill: rgb(42, 63, 95); fill-opacity: 1; white-space: pre; opacity: 1;\" transform=\"translate(0,455.5)\">0.2</text></g><g class=\"ytick\"><text text-anchor=\"end\" x=\"79\" y=\"4.199999999999999\" style=\"font-family: 'Open Sans', verdana, arial, sans-serif; font-size: 12px; fill: rgb(42, 63, 95); fill-opacity: 1; white-space: pre; opacity: 1;\" transform=\"translate(0,396.87)\">0.4</text></g><g class=\"ytick\"><text text-anchor=\"end\" x=\"79\" y=\"4.199999999999999\" style=\"font-family: 'Open Sans', verdana, arial, sans-serif; font-size: 12px; fill: rgb(42, 63, 95); fill-opacity: 1; white-space: pre; opacity: 1;\" transform=\"translate(0,338.24)\">0.6</text></g><g class=\"ytick\"><text text-anchor=\"end\" x=\"79\" y=\"4.199999999999999\" style=\"font-family: 'Open Sans', verdana, arial, sans-serif; font-size: 12px; fill: rgb(42, 63, 95); fill-opacity: 1; white-space: pre; opacity: 1;\" transform=\"translate(0,279.61)\">0.8</text></g><g class=\"ytick\"><text text-anchor=\"end\" x=\"79\" y=\"4.199999999999999\" style=\"font-family: 'Open Sans', verdana, arial, sans-serif; font-size: 12px; fill: rgb(42, 63, 95); fill-opacity: 1; white-space: pre; opacity: 1;\" transform=\"translate(0,220.98000000000002)\">1</text></g><g class=\"ytick\"><text text-anchor=\"end\" x=\"79\" y=\"4.199999999999999\" style=\"font-family: 'Open Sans', verdana, arial, sans-serif; font-size: 12px; fill: rgb(42, 63, 95); fill-opacity: 1; white-space: pre; opacity: 1;\" transform=\"translate(0,162.34)\">1.2</text></g><g class=\"ytick\"><text text-anchor=\"end\" x=\"79\" y=\"4.199999999999999\" style=\"font-family: 'Open Sans', verdana, arial, sans-serif; font-size: 12px; fill: rgb(42, 63, 95); fill-opacity: 1; white-space: pre; opacity: 1;\" transform=\"translate(0,103.71)\">1.4</text></g></g><g class=\"overaxes-above\"/></g></g><g class=\"polarlayer\"/><g class=\"smithlayer\"/><g class=\"ternarylayer\"/><g class=\"geolayer\"/><g class=\"funnelarealayer\"/><g class=\"pielayer\"/><g class=\"iciclelayer\"/><g class=\"treemaplayer\"/><g class=\"sunburstlayer\"/><g class=\"glimages\"/><defs id=\"topdefs-7f2c4b\"><g class=\"clips\"/></defs><g class=\"layer-above\"><g class=\"imagelayer\"/><g class=\"shapelayer\"/></g><g class=\"infolayer\"><g class=\"g-gtitle\"/><g class=\"g-xtitle\"><text class=\"xtitle\" x=\"500\" y=\"560.3\" text-anchor=\"middle\" style=\"font-family: 'Open Sans', verdana, arial, sans-serif; font-size: 14px; fill: rgb(42, 63, 95); opacity: 1; font-weight: normal; white-space: pre;\">Stock volitility (%)</text></g><g class=\"g-ytitle\"><text class=\"ytitle\" transform=\"rotate(-90,34.575,310)\" x=\"34.575\" y=\"310\" text-anchor=\"middle\" style=\"font-family: 'Open Sans', verdana, arial, sans-serif; font-size: 14px; fill: rgb(42, 63, 95); opacity: 1; font-weight: normal; white-space: pre;\">Weekly option return (%)</text></g></g></svg>"
      ]
     },
     "metadata": {},
     "output_type": "display_data"
    }
   ],
   "source": [
    "fig = go.Figure()\n",
    "fig.add_trace(go.Scatter(\n",
    "    x= volitility,\n",
    "    y= mean_return,\n",
    "    mode=\"markers+text\",\n",
    "    name=\"Lines, Markers and Text\",\n",
    "    text=tickers_candidate,\n",
    "    textposition=\"top center\"))\n",
    "fig['layout']['yaxis']['title']='Weekly option return (%)'\n",
    "fig['layout']['xaxis']['title']='Stock volitility (%)'\n",
    "\n",
    "fig.show(\"svg\", width=1000, height=600)"
   ]
  },
  {
   "cell_type": "markdown",
   "metadata": {},
   "source": [
    "This is not a classic mean-varience graph, as calculating the real return and varience of return is time consuming; but it's good enough for comparing different stocks. Based on this graph, MRNA, ENPH, ETSY and TSLA would generate max return for the iron condor strategy. However they have the highest volitility which means there's a higher chance that this strategy results in loss. Below we calculate a paramater similar to Sharpe ratio to compare these tickers better:"
   ]
  },
  {
   "cell_type": "code",
   "execution_count": 20,
   "metadata": {},
   "outputs": [
    {
     "data": {
      "image/png": "[encoded data removed]",
      "text/plain": [
       "<Figure size 432x288 with 1 Axes>"
      ]
     },
     "metadata": {
      "needs_background": "light"
     },
     "output_type": "display_data"
    }
   ],
   "source": [
    "sharpe_ratio_psudo = (mean_return - 1.8/52)/volitility\n",
    "plt.barh(tickers_candidate[idx_sort], sharpe_ratio_psudo[idx_sort])\n",
    "plt.xlabel('Option return to volitility ratio');"
   ]
  },
  {
   "cell_type": "code",
   "execution_count": 5,
   "metadata": {},
   "outputs": [
    {
     "data": {
      "image/png": "[encoded data removed]",
      "text/plain": [
       "<Figure size 432x288 with 1 Axes>"
      ]
     },
     "metadata": {
      "needs_background": "light"
     },
     "output_type": "display_data"
    }
   ],
   "source": [
    "plt.barh(tickers_candidate[idx_sort], np.nanmean(volume,1)[idx_sort])\n",
    "plt.xlabel('Average option contracts trading volume');"
   ]
  },
  {
   "cell_type": "markdown",
   "metadata": {},
   "source": [
    "Based on these graphs, MRNA, ENPH, ETSY and TSLA have the highest return as well as return to volitility ratio. Therefore they are the best candidates for the designed algorithm. Because MRNA is mostly a pre-clinical stage biotech company, it is very prone to abrubt price changes following success or failure of its trials or CDC approval which make it not an ideal case for iron condor strategy.\n",
    "\n",
    "ENPH and ETSY have around 100 contract daily trades which is barely enough for someone with significant capital to start a postion. This low volume also creates a relatively large spread between bid and ask which reduces the weekly returns. \n",
    "\n",
    "TSLA stands on the sweet spot where both it's return and return to volitility ratio are acceptable and it's options trading volume is high enough."
   ]
  }
 ],
 "metadata": {
  "kernelspec": {
   "display_name": "Python 3 (ipykernel)",
   "language": "python",
   "name": "python3"
  },
  "language_info": {
   "codemirror_mode": {
    "name": "ipython",
    "version": 3
   },
   "file_extension": ".py",
   "mimetype": "text/x-python",
   "name": "python",
   "nbconvert_exporter": "python",
   "pygments_lexer": "ipython3",
   "version": "3.8.5"
  }
 },
 "nbformat": 4,
 "nbformat_minor": 4
}
